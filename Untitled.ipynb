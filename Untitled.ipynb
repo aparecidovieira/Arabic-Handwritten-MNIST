{
 "cells": [
  {
   "cell_type": "code",
   "execution_count": 200,
   "metadata": {},
   "outputs": [],
   "source": [
    "import tensorflow as tf\n",
    "import numpy as np\n",
    "import pandas as pd\n",
    "import matplotlib.pyplot as plt\n",
    "\n",
    "%matplotlib inline"
   ]
  },
  {
   "cell_type": "code",
   "execution_count": 201,
   "metadata": {},
   "outputs": [],
   "source": [
    "import csv\n",
    "\n",
    "train_path = 'Arabic Handwritten Characters Dataset CSV/csvTrainImages 13440x1024.csv'\n",
    "train_labels = 'Arabic Handwritten Characters Dataset CSV/csvTrainLabel 13440x1.csv'\n",
    "test_path = 'Arabic Handwritten Characters Dataset CSV/csvTestImages 3360x1024.csv'\n",
    "test_labels = 'Arabic Handwritten Characters Dataset CSV/csvTestLabel 3360x1.csv'\n",
    "\n",
    "train_img = pd.read_csv(train_path)\n",
    "train_labels = pd.read_csv(train_labels)\n",
    "test_img = pd.read_csv(test_path)\n",
    "test_labels = pd.read_csv(test_labels)"
   ]
  },
  {
   "cell_type": "code",
   "execution_count": 202,
   "metadata": {},
   "outputs": [
    {
     "data": {
      "text/html": [
       "<div>\n",
       "<style scoped>\n",
       "    .dataframe tbody tr th:only-of-type {\n",
       "        vertical-align: middle;\n",
       "    }\n",
       "\n",
       "    .dataframe tbody tr th {\n",
       "        vertical-align: top;\n",
       "    }\n",
       "\n",
       "    .dataframe thead th {\n",
       "        text-align: right;\n",
       "    }\n",
       "</style>\n",
       "<table border=\"1\" class=\"dataframe\">\n",
       "  <thead>\n",
       "    <tr style=\"text-align: right;\">\n",
       "      <th></th>\n",
       "      <th>0</th>\n",
       "      <th>0.1</th>\n",
       "      <th>0.2</th>\n",
       "      <th>0.3</th>\n",
       "      <th>0.4</th>\n",
       "      <th>0.5</th>\n",
       "      <th>0.6</th>\n",
       "      <th>0.7</th>\n",
       "      <th>0.8</th>\n",
       "      <th>0.9</th>\n",
       "      <th>...</th>\n",
       "      <th>0.896</th>\n",
       "      <th>0.897</th>\n",
       "      <th>0.898</th>\n",
       "      <th>0.899</th>\n",
       "      <th>0.900</th>\n",
       "      <th>0.901</th>\n",
       "      <th>0.902</th>\n",
       "      <th>0.903</th>\n",
       "      <th>0.904</th>\n",
       "      <th>0.905</th>\n",
       "    </tr>\n",
       "  </thead>\n",
       "  <tbody>\n",
       "    <tr>\n",
       "      <th>0</th>\n",
       "      <td>0</td>\n",
       "      <td>0</td>\n",
       "      <td>0</td>\n",
       "      <td>0</td>\n",
       "      <td>0</td>\n",
       "      <td>0</td>\n",
       "      <td>0</td>\n",
       "      <td>0</td>\n",
       "      <td>0</td>\n",
       "      <td>0</td>\n",
       "      <td>...</td>\n",
       "      <td>0</td>\n",
       "      <td>0</td>\n",
       "      <td>0</td>\n",
       "      <td>0</td>\n",
       "      <td>0</td>\n",
       "      <td>0</td>\n",
       "      <td>0</td>\n",
       "      <td>0</td>\n",
       "      <td>0</td>\n",
       "      <td>0</td>\n",
       "    </tr>\n",
       "    <tr>\n",
       "      <th>1</th>\n",
       "      <td>0</td>\n",
       "      <td>0</td>\n",
       "      <td>0</td>\n",
       "      <td>0</td>\n",
       "      <td>0</td>\n",
       "      <td>0</td>\n",
       "      <td>0</td>\n",
       "      <td>0</td>\n",
       "      <td>0</td>\n",
       "      <td>0</td>\n",
       "      <td>...</td>\n",
       "      <td>0</td>\n",
       "      <td>0</td>\n",
       "      <td>0</td>\n",
       "      <td>0</td>\n",
       "      <td>0</td>\n",
       "      <td>0</td>\n",
       "      <td>0</td>\n",
       "      <td>0</td>\n",
       "      <td>0</td>\n",
       "      <td>0</td>\n",
       "    </tr>\n",
       "    <tr>\n",
       "      <th>2</th>\n",
       "      <td>0</td>\n",
       "      <td>0</td>\n",
       "      <td>0</td>\n",
       "      <td>0</td>\n",
       "      <td>0</td>\n",
       "      <td>0</td>\n",
       "      <td>0</td>\n",
       "      <td>0</td>\n",
       "      <td>0</td>\n",
       "      <td>0</td>\n",
       "      <td>...</td>\n",
       "      <td>0</td>\n",
       "      <td>0</td>\n",
       "      <td>0</td>\n",
       "      <td>0</td>\n",
       "      <td>0</td>\n",
       "      <td>0</td>\n",
       "      <td>0</td>\n",
       "      <td>0</td>\n",
       "      <td>0</td>\n",
       "      <td>0</td>\n",
       "    </tr>\n",
       "    <tr>\n",
       "      <th>3</th>\n",
       "      <td>0</td>\n",
       "      <td>0</td>\n",
       "      <td>0</td>\n",
       "      <td>0</td>\n",
       "      <td>0</td>\n",
       "      <td>0</td>\n",
       "      <td>0</td>\n",
       "      <td>0</td>\n",
       "      <td>0</td>\n",
       "      <td>0</td>\n",
       "      <td>...</td>\n",
       "      <td>0</td>\n",
       "      <td>0</td>\n",
       "      <td>0</td>\n",
       "      <td>0</td>\n",
       "      <td>0</td>\n",
       "      <td>0</td>\n",
       "      <td>0</td>\n",
       "      <td>0</td>\n",
       "      <td>0</td>\n",
       "      <td>0</td>\n",
       "    </tr>\n",
       "    <tr>\n",
       "      <th>4</th>\n",
       "      <td>0</td>\n",
       "      <td>0</td>\n",
       "      <td>0</td>\n",
       "      <td>0</td>\n",
       "      <td>0</td>\n",
       "      <td>0</td>\n",
       "      <td>0</td>\n",
       "      <td>0</td>\n",
       "      <td>0</td>\n",
       "      <td>0</td>\n",
       "      <td>...</td>\n",
       "      <td>0</td>\n",
       "      <td>0</td>\n",
       "      <td>0</td>\n",
       "      <td>0</td>\n",
       "      <td>0</td>\n",
       "      <td>0</td>\n",
       "      <td>0</td>\n",
       "      <td>0</td>\n",
       "      <td>0</td>\n",
       "      <td>0</td>\n",
       "    </tr>\n",
       "  </tbody>\n",
       "</table>\n",
       "<p>5 rows × 1024 columns</p>\n",
       "</div>"
      ],
      "text/plain": [
       "   0  0.1  0.2  0.3  0.4  0.5  0.6  0.7  0.8  0.9  ...    0.896  0.897  0.898  \\\n",
       "0  0    0    0    0    0    0    0    0    0    0  ...        0      0      0   \n",
       "1  0    0    0    0    0    0    0    0    0    0  ...        0      0      0   \n",
       "2  0    0    0    0    0    0    0    0    0    0  ...        0      0      0   \n",
       "3  0    0    0    0    0    0    0    0    0    0  ...        0      0      0   \n",
       "4  0    0    0    0    0    0    0    0    0    0  ...        0      0      0   \n",
       "\n",
       "   0.899  0.900  0.901  0.902  0.903  0.904  0.905  \n",
       "0      0      0      0      0      0      0      0  \n",
       "1      0      0      0      0      0      0      0  \n",
       "2      0      0      0      0      0      0      0  \n",
       "3      0      0      0      0      0      0      0  \n",
       "4      0      0      0      0      0      0      0  \n",
       "\n",
       "[5 rows x 1024 columns]"
      ]
     },
     "execution_count": 202,
     "metadata": {},
     "output_type": "execute_result"
    }
   ],
   "source": [
    "train_img.head()"
   ]
  },
  {
   "cell_type": "code",
   "execution_count": 203,
   "metadata": {},
   "outputs": [
    {
     "data": {
      "text/html": [
       "<div>\n",
       "<style scoped>\n",
       "    .dataframe tbody tr th:only-of-type {\n",
       "        vertical-align: middle;\n",
       "    }\n",
       "\n",
       "    .dataframe tbody tr th {\n",
       "        vertical-align: top;\n",
       "    }\n",
       "\n",
       "    .dataframe thead th {\n",
       "        text-align: right;\n",
       "    }\n",
       "</style>\n",
       "<table border=\"1\" class=\"dataframe\">\n",
       "  <thead>\n",
       "    <tr style=\"text-align: right;\">\n",
       "      <th></th>\n",
       "      <th>1</th>\n",
       "    </tr>\n",
       "  </thead>\n",
       "  <tbody>\n",
       "    <tr>\n",
       "      <th>3354</th>\n",
       "      <td>26</td>\n",
       "    </tr>\n",
       "    <tr>\n",
       "      <th>3355</th>\n",
       "      <td>27</td>\n",
       "    </tr>\n",
       "    <tr>\n",
       "      <th>3356</th>\n",
       "      <td>27</td>\n",
       "    </tr>\n",
       "    <tr>\n",
       "      <th>3357</th>\n",
       "      <td>28</td>\n",
       "    </tr>\n",
       "    <tr>\n",
       "      <th>3358</th>\n",
       "      <td>28</td>\n",
       "    </tr>\n",
       "  </tbody>\n",
       "</table>\n",
       "</div>"
      ],
      "text/plain": [
       "       1\n",
       "3354  26\n",
       "3355  27\n",
       "3356  27\n",
       "3357  28\n",
       "3358  28"
      ]
     },
     "execution_count": 203,
     "metadata": {},
     "output_type": "execute_result"
    }
   ],
   "source": [
    "test_labels.tail()"
   ]
  },
  {
   "cell_type": "code",
   "execution_count": 223,
   "metadata": {},
   "outputs": [
    {
     "data": {
      "text/plain": [
       "13439"
      ]
     },
     "execution_count": 223,
     "metadata": {},
     "output_type": "execute_result"
    }
   ],
   "source": [
    "len(train_img)"
   ]
  },
  {
   "cell_type": "code",
   "execution_count": 224,
   "metadata": {
    "collapsed": true
   },
   "outputs": [],
   "source": [
    "def one_hot_encode(labels):\n",
    "    one_hot = np.zeros((len(labels), 29))\n",
    "    for label, array in zip(labels, one_hot):\n",
    "        array[label] = 1\n",
    "    return one_hot"
   ]
  },
  {
   "cell_type": "code",
   "execution_count": 225,
   "metadata": {
    "collapsed": true
   },
   "outputs": [],
   "source": [
    "def load(train_img, train_labels, test_img, test_labels):\n",
    "    X_tr = train_img.as_matrix()\n",
    "    Y_tr = train_labels.as_matrix()\n",
    "    X_te = test_img.as_matrix()\n",
    "    Y_te = test_labels.as_matrix()\n",
    "    return X_tr, Y_tr, X_te, Y_te"
   ]
  },
  {
   "cell_type": "code",
   "execution_count": 226,
   "metadata": {
    "collapsed": true
   },
   "outputs": [],
   "source": [
    "from sklearn.model_selection import train_test_split"
   ]
  },
  {
   "cell_type": "code",
   "execution_count": 227,
   "metadata": {
    "collapsed": true
   },
   "outputs": [],
   "source": [
    "X_tr, Y_tr, X_te, Y_te = load(train_img, train_labels, test_img, test_labels)\n",
    "X_tr = np.reshape(X_tr, (-1, 32, 32, 1))\n",
    "X_te = np.reshape(X_te, (-1, 32, 32, 1))"
   ]
  },
  {
   "cell_type": "code",
   "execution_count": 228,
   "metadata": {},
   "outputs": [
    {
     "data": {
      "text/plain": [
       "13439"
      ]
     },
     "execution_count": 228,
     "metadata": {},
     "output_type": "execute_result"
    }
   ],
   "source": [
    "len(X_tr)"
   ]
  },
  {
   "cell_type": "code",
   "execution_count": 229,
   "metadata": {},
   "outputs": [],
   "source": [
    "X_tr, X_val, Y_tr, Y_val = train_test_split(X_tr, Y_tr, test_size=0.15, random_state=0)"
   ]
  },
  {
   "cell_type": "code",
   "execution_count": 230,
   "metadata": {
    "collapsed": true
   },
   "outputs": [],
   "source": [
    "Y_tr = one_hot_encode(Y_tr)\n",
    "Y_tr_\n",
    "Y_te = one_hot_encode(Y_te)\n",
    "Y_val = one_hot_encode(Y_val)"
   ]
  },
  {
   "cell_type": "code",
   "execution_count": 231,
   "metadata": {},
   "outputs": [],
   "source": [
    "def weight_var(shape):\n",
    "    w = tf.truncated_normal(shape=shape)\n",
    "    return tf.Variable(w)\n",
    "def bias_var(shape):\n",
    "    b = tf.truncated_normal(shape=shape)\n",
    "    return tf.Variable(b)\n",
    "\n",
    "\n",
    "def CNN(x, n_classes):\n",
    "    \n",
    "    strides = [1, 1, 1, 1]\n",
    "    strides2 = [1, 2, 2, 1]\n",
    "    ksize = strides2\n",
    "    w1 = weight_var(shape=[3, 3, 1, 6])\n",
    "    b1 = bias_var(shape=[6])\n",
    "    layer1 = tf.nn.conv2d(x, w1, strides=strides, padding='VALID')\n",
    "    layer1 = tf.nn.bias_add(layer1, b1)\n",
    "    layer1 = tf.nn.relu(layer1)\n",
    "    \n",
    "    #layer1 = tf.nn.max_pool(layer1, ksize=ksize, strides=strides2, padding'VALID')\n",
    "    \n",
    "\n",
    "    w2 = weight_var(shape=[3, 3, 6, 9])\n",
    "    b2 = bias_var(shape=[9])\n",
    "    layer2 = tf.nn.conv2d(layer1, w2, strides=strides, padding='VALID')\n",
    "    layer2 = tf.nn.bias_add(layer2, b2)\n",
    "    layer2 = tf.nn.relu(layer2)\n",
    "    \n",
    "    layer2 = tf.nn.max_pool(layer2, ksize=ksize, strides=strides2, padding='VALID')\n",
    "    \n",
    "\n",
    "    w3 = weight_var(shape=[3, 3, 9, 16])\n",
    "    b3 = bias_var(shape=[16])\n",
    "    layer3 = tf.nn.conv2d(layer2, w3, strides=strides, padding='VALID')\n",
    "    layer3 = tf.nn.bias_add(layer3, b3)\n",
    "    layer3 = tf.nn.relu(layer3)\n",
    "    \n",
    "    layer3 = tf.nn.max_pool(layer3, ksize=ksize, strides=strides2, padding='SAME')\n",
    "    \n",
    "    \n",
    "    flatten = tf.contrib.layers.flatten(layer3)\n",
    "    dim = flatten.get_shape().as_list()\n",
    "    \n",
    "    wc1 = weight_var(shape=[dim[1], 128])\n",
    "    bc1 = bias_var([128])\n",
    "    fc1 = tf.matmul(flatten, wc1)\n",
    "    fc1 = tf.nn.bias_add(fc1, bc1)\n",
    "    fc1 = tf.nn.relu(fc1)\n",
    "    fc1 = tf.nn.dropout(fc1, 0.5)\n",
    "    \n",
    "    wc2 = weight_var(shape=[128, n_classes])\n",
    "    bc2 = bias_var([n_classes])\n",
    "    fc2 = tf.matmul(fc1, wc2)\n",
    "    logits = tf.add(fc2, bc2)\n",
    "    return logits\n",
    "    \n",
    "    \n",
    "    "
   ]
  },
  {
   "cell_type": "code",
   "execution_count": 232,
   "metadata": {
    "collapsed": true
   },
   "outputs": [],
   "source": [
    "def stats(X_batch, Y_batch):\n",
    "    total_loss = 0\n",
    "    total_acc = 0\n",
    "    samples = len(X_batch)\n",
    "    #X_batch = np.reshape(X_batch, [-1, n_steps, n_inputs])\n",
    "    sess = tf.get_default_session()\n",
    "    for offset in range(0, samples, batch_size):\n",
    "        end = offset+batch_size\n",
    "        xs_batch, ys_batch = X_batch[offset:end], Y_batch[offset:end]\n",
    "        loss_, acc = sess.run([loss, accuracy], feed_dict={x:xs_batch, \n",
    "                                                           y:ys_batch\n",
    "                                                           \n",
    "                                                           })\n",
    "        total_loss += (float(loss_)*xs_batch.shape[0])\n",
    "        total_acc += (float(acc)*xs_batch.shape[0])\n",
    "\n",
    "    return (total_loss)/samples, (total_acc)/samples"
   ]
  },
  {
   "cell_type": "code",
   "execution_count": 240,
   "metadata": {},
   "outputs": [],
   "source": [
    "tf.reset_default_graph()"
   ]
  },
  {
   "cell_type": "code",
   "execution_count": 241,
   "metadata": {},
   "outputs": [
    {
     "data": {
      "text/plain": [
       "2.0"
      ]
     },
     "execution_count": 241,
     "metadata": {},
     "output_type": "execute_result"
    }
   ],
   "source": [
    "learning_rate = 1e-3\n",
    "n_classes = np.max(Y_tr) + 1\n",
    "x = tf.placeholder(dtype=tf.float32, shape=(None, 32, 32, 1))\n",
    "y = tf.placeholder(tf.float32, shape=(None, 29))\n",
    "#y_hot = tf.one_hot(y, 29)\n",
    "n_classes"
   ]
  },
  {
   "cell_type": "code",
   "execution_count": 242,
   "metadata": {},
   "outputs": [
    {
     "data": {
      "text/plain": [
       "<tf.Tensor 'Add:0' shape=(?, 29) dtype=float32>"
      ]
     },
     "execution_count": 242,
     "metadata": {},
     "output_type": "execute_result"
    }
   ],
   "source": [
    "logits = CNN(x, 29)\n",
    "softmax = tf.nn.softmax(logits)\n",
    "logits"
   ]
  },
  {
   "cell_type": "code",
   "execution_count": null,
   "metadata": {
    "collapsed": true
   },
   "outputs": [],
   "source": []
  },
  {
   "cell_type": "code",
   "execution_count": 243,
   "metadata": {},
   "outputs": [],
   "source": [
    "\n",
    "\n",
    "loss = tf.reduce_mean(tf.nn.softmax_cross_entropy_with_logits(logits=logits, labels=y))\n",
    "optimizer = tf.train.AdamOptimizer(learning_rate).minimize(loss)\n",
    "\n",
    "prediction = tf.equal(tf.argmax(y, 1), tf.argmax(softmax, 1))\n",
    "accuracy = tf.reduce_mean(tf.cast(prediction, dtype=tf.float32))"
   ]
  },
  {
   "cell_type": "code",
   "execution_count": 244,
   "metadata": {},
   "outputs": [
    {
     "name": "stdout",
     "output_type": "stream",
     "text": [
      "(11423, 32, 32, 1) (11423, 29)\n"
     ]
    }
   ],
   "source": [
    "print(X_tr.shape, Y_tr.shape)"
   ]
  },
  {
   "cell_type": "code",
   "execution_count": null,
   "metadata": {},
   "outputs": [
    {
     "name": "stdout",
     "output_type": "stream",
     "text": [
      "Initializing Training\n"
     ]
    }
   ],
   "source": [
    "acc_map = []\n",
    "\n",
    "from sklearn.utils import shuffle\n",
    "batch_size = 128\n",
    "epochs = 2000\n",
    "samples = len(X_tr)\n",
    "\n",
    "count = 0\n",
    "print(\"Initializing Training\")\n",
    "try:\n",
    "    with tf.Session() as sess:\n",
    "        init = tf.global_variables_initializer()\n",
    "        sess.run(init)\n",
    "        for epoch in range(epochs):\n",
    "            X_tr, Y_tr = shuffle(X_tr, Y_tr)\n",
    "            for offset in range(0, samples, batch_size):\n",
    "                end = offset+batch_size\n",
    "                xs_batch, ys_batch = X_tr[offset:end], Y_tr[offset:end]\n",
    "                loss_, _ = sess.run([loss, optimizer], feed_dict={x: xs_batch, \n",
    "                                                                  y: ys_batch})    \n",
    "\n",
    "            validation_loss, validation_acc = stats(X_val, Y_val)\n",
    "            acc_map.append(round(validation_acc*100, 2))\n",
    "            print(\"EPOCH {}\".format(epoch + 1))\n",
    "            print (\"Validation Loss = {:.3f} and Validation Accuracy = {:.3f} %\".format(validation_loss, 100 *validation_acc))\n",
    "        plt.figure(figsize=(12, 5))\n",
    "        plt.xticks(range(1, epochs+1))\n",
    "        plt.xlabel('epoch')\n",
    "        plt.ylabel('accuracy')\n",
    "        plt.grid(True)\n",
    "        plt.plot(range(1, epochs+1), acc_map, '-o')\n",
    "        for i, j in list(zip(range(1, epochs+1), acc_map))[0::3]:\n",
    "            plt.text(i, j-1, str(j))\n",
    "        test_loss, test_acc = sess.run([loss, accuracy], feed_dict={x: xs_batch, \n",
    "                                                                    y: ys_batch})  \n",
    "        print (\"Test Loss {} and Test Accuracy {:.3f} %\".format(test_loss, 100 *test_acc))\n",
    "except KeyboardInterrupt:\n",
    "    print('Training interrupted')\n",
    "    test_loss, test_acc = sess.run([loss, accuracy], feed_dict={x: xs_batch, \n",
    "                                                                    y: ys_batch})  \n",
    "    print (\"Test Loss {} and Test Accuracy {:.3f} %\".format(test_loss, 100 *test_acc))"
   ]
  },
  {
   "cell_type": "code",
   "execution_count": null,
   "metadata": {
    "collapsed": true
   },
   "outputs": [],
   "source": []
  }
 ],
 "metadata": {
  "kernelspec": {
   "display_name": "Python 3",
   "language": "python",
   "name": "python3"
  },
  "language_info": {
   "codemirror_mode": {
    "name": "ipython",
    "version": 3
   },
   "file_extension": ".py",
   "mimetype": "text/x-python",
   "name": "python",
   "nbconvert_exporter": "python",
   "pygments_lexer": "ipython3",
   "version": "3.6.3"
  }
 },
 "nbformat": 4,
 "nbformat_minor": 2
}

{
 "cells": [
  {
   "cell_type": "code",
   "execution_count": 31,
   "metadata": {},
   "outputs": [],
   "source": [
    "import tensorflow as tf\n",
    "import numpy as np\n",
    "import pandas as pd\n",
    "import matplotlib.pyplot as plt\n",
    "\n",
    "%matplotlib inline"
   ]
  },
  {
   "cell_type": "code",
   "execution_count": 132,
   "metadata": {
    "collapsed": true
   },
   "outputs": [],
   "source": [
    "import csv\n",
    "\n",
    "train_path = 'Arabic Handwritten Digits Dataset CSV/csvTrainImages 60k x 784.csv'\n",
    "train_labels = 'Arabic Handwritten Digits Dataset CSV/csvTrainLabel 60k x 1.csv'\n",
    "test_path = 'Arabic Handwritten Digits Dataset CSV/csvTestImages 10k x 784.csv'\n",
    "test_labels = 'Arabic Handwritten Digits Dataset CSV/csvTestLabel 10k x 1.csv'\n",
    "\n",
    "train_img = pd.read_csv(train_path)\n",
    "train_labels = pd.read_csv(train_labels)\n",
    "test_img = pd.read_csv(test_path)\n",
    "test_labels = pd.read_csv(test_labels)"
   ]
  },
  {
   "cell_type": "code",
   "execution_count": 133,
   "metadata": {},
   "outputs": [
    {
     "data": {
      "text/html": [
       "<div>\n",
       "<style scoped>\n",
       "    .dataframe tbody tr th:only-of-type {\n",
       "        vertical-align: middle;\n",
       "    }\n",
       "\n",
       "    .dataframe tbody tr th {\n",
       "        vertical-align: top;\n",
       "    }\n",
       "\n",
       "    .dataframe thead th {\n",
       "        text-align: right;\n",
       "    }\n",
       "</style>\n",
       "<table border=\"1\" class=\"dataframe\">\n",
       "  <thead>\n",
       "    <tr style=\"text-align: right;\">\n",
       "      <th></th>\n",
       "      <th>0</th>\n",
       "      <th>0.1</th>\n",
       "      <th>0.2</th>\n",
       "      <th>0.3</th>\n",
       "      <th>0.4</th>\n",
       "      <th>0.5</th>\n",
       "      <th>0.6</th>\n",
       "      <th>0.7</th>\n",
       "      <th>0.8</th>\n",
       "      <th>0.9</th>\n",
       "      <th>...</th>\n",
       "      <th>0.486</th>\n",
       "      <th>0.487</th>\n",
       "      <th>0.488</th>\n",
       "      <th>0.489</th>\n",
       "      <th>0.490</th>\n",
       "      <th>0.491</th>\n",
       "      <th>0.492</th>\n",
       "      <th>0.493</th>\n",
       "      <th>0.494</th>\n",
       "      <th>0.495</th>\n",
       "    </tr>\n",
       "  </thead>\n",
       "  <tbody>\n",
       "    <tr>\n",
       "      <th>0</th>\n",
       "      <td>0</td>\n",
       "      <td>0</td>\n",
       "      <td>0</td>\n",
       "      <td>0</td>\n",
       "      <td>0</td>\n",
       "      <td>0</td>\n",
       "      <td>0</td>\n",
       "      <td>0</td>\n",
       "      <td>0</td>\n",
       "      <td>0</td>\n",
       "      <td>...</td>\n",
       "      <td>0</td>\n",
       "      <td>0</td>\n",
       "      <td>0</td>\n",
       "      <td>0</td>\n",
       "      <td>0</td>\n",
       "      <td>0</td>\n",
       "      <td>0</td>\n",
       "      <td>0</td>\n",
       "      <td>0</td>\n",
       "      <td>0</td>\n",
       "    </tr>\n",
       "    <tr>\n",
       "      <th>1</th>\n",
       "      <td>0</td>\n",
       "      <td>0</td>\n",
       "      <td>0</td>\n",
       "      <td>0</td>\n",
       "      <td>0</td>\n",
       "      <td>0</td>\n",
       "      <td>0</td>\n",
       "      <td>0</td>\n",
       "      <td>0</td>\n",
       "      <td>0</td>\n",
       "      <td>...</td>\n",
       "      <td>0</td>\n",
       "      <td>0</td>\n",
       "      <td>0</td>\n",
       "      <td>0</td>\n",
       "      <td>0</td>\n",
       "      <td>0</td>\n",
       "      <td>0</td>\n",
       "      <td>0</td>\n",
       "      <td>0</td>\n",
       "      <td>0</td>\n",
       "    </tr>\n",
       "    <tr>\n",
       "      <th>2</th>\n",
       "      <td>0</td>\n",
       "      <td>0</td>\n",
       "      <td>0</td>\n",
       "      <td>0</td>\n",
       "      <td>0</td>\n",
       "      <td>0</td>\n",
       "      <td>0</td>\n",
       "      <td>0</td>\n",
       "      <td>0</td>\n",
       "      <td>0</td>\n",
       "      <td>...</td>\n",
       "      <td>0</td>\n",
       "      <td>0</td>\n",
       "      <td>0</td>\n",
       "      <td>0</td>\n",
       "      <td>0</td>\n",
       "      <td>0</td>\n",
       "      <td>0</td>\n",
       "      <td>0</td>\n",
       "      <td>0</td>\n",
       "      <td>0</td>\n",
       "    </tr>\n",
       "    <tr>\n",
       "      <th>3</th>\n",
       "      <td>0</td>\n",
       "      <td>0</td>\n",
       "      <td>0</td>\n",
       "      <td>0</td>\n",
       "      <td>0</td>\n",
       "      <td>0</td>\n",
       "      <td>0</td>\n",
       "      <td>0</td>\n",
       "      <td>0</td>\n",
       "      <td>0</td>\n",
       "      <td>...</td>\n",
       "      <td>0</td>\n",
       "      <td>0</td>\n",
       "      <td>0</td>\n",
       "      <td>0</td>\n",
       "      <td>0</td>\n",
       "      <td>0</td>\n",
       "      <td>0</td>\n",
       "      <td>0</td>\n",
       "      <td>0</td>\n",
       "      <td>0</td>\n",
       "    </tr>\n",
       "    <tr>\n",
       "      <th>4</th>\n",
       "      <td>0</td>\n",
       "      <td>0</td>\n",
       "      <td>0</td>\n",
       "      <td>0</td>\n",
       "      <td>0</td>\n",
       "      <td>0</td>\n",
       "      <td>0</td>\n",
       "      <td>0</td>\n",
       "      <td>0</td>\n",
       "      <td>0</td>\n",
       "      <td>...</td>\n",
       "      <td>0</td>\n",
       "      <td>0</td>\n",
       "      <td>0</td>\n",
       "      <td>0</td>\n",
       "      <td>0</td>\n",
       "      <td>0</td>\n",
       "      <td>0</td>\n",
       "      <td>0</td>\n",
       "      <td>0</td>\n",
       "      <td>0</td>\n",
       "    </tr>\n",
       "  </tbody>\n",
       "</table>\n",
       "<p>5 rows × 784 columns</p>\n",
       "</div>"
      ],
      "text/plain": [
       "   0  0.1  0.2  0.3  0.4  0.5  0.6  0.7  0.8  0.9  ...    0.486  0.487  0.488  \\\n",
       "0  0    0    0    0    0    0    0    0    0    0  ...        0      0      0   \n",
       "1  0    0    0    0    0    0    0    0    0    0  ...        0      0      0   \n",
       "2  0    0    0    0    0    0    0    0    0    0  ...        0      0      0   \n",
       "3  0    0    0    0    0    0    0    0    0    0  ...        0      0      0   \n",
       "4  0    0    0    0    0    0    0    0    0    0  ...        0      0      0   \n",
       "\n",
       "   0.489  0.490  0.491  0.492  0.493  0.494  0.495  \n",
       "0      0      0      0      0      0      0      0  \n",
       "1      0      0      0      0      0      0      0  \n",
       "2      0      0      0      0      0      0      0  \n",
       "3      0      0      0      0      0      0      0  \n",
       "4      0      0      0      0      0      0      0  \n",
       "\n",
       "[5 rows x 784 columns]"
      ]
     },
     "execution_count": 133,
     "metadata": {},
     "output_type": "execute_result"
    }
   ],
   "source": [
    "train_img.head()"
   ]
  },
  {
   "cell_type": "code",
   "execution_count": 134,
   "metadata": {},
   "outputs": [
    {
     "data": {
      "text/html": [
       "<div>\n",
       "<style scoped>\n",
       "    .dataframe tbody tr th:only-of-type {\n",
       "        vertical-align: middle;\n",
       "    }\n",
       "\n",
       "    .dataframe tbody tr th {\n",
       "        vertical-align: top;\n",
       "    }\n",
       "\n",
       "    .dataframe thead th {\n",
       "        text-align: right;\n",
       "    }\n",
       "</style>\n",
       "<table border=\"1\" class=\"dataframe\">\n",
       "  <thead>\n",
       "    <tr style=\"text-align: right;\">\n",
       "      <th></th>\n",
       "      <th>0</th>\n",
       "    </tr>\n",
       "  </thead>\n",
       "  <tbody>\n",
       "    <tr>\n",
       "      <th>9994</th>\n",
       "      <td>5</td>\n",
       "    </tr>\n",
       "    <tr>\n",
       "      <th>9995</th>\n",
       "      <td>6</td>\n",
       "    </tr>\n",
       "    <tr>\n",
       "      <th>9996</th>\n",
       "      <td>7</td>\n",
       "    </tr>\n",
       "    <tr>\n",
       "      <th>9997</th>\n",
       "      <td>8</td>\n",
       "    </tr>\n",
       "    <tr>\n",
       "      <th>9998</th>\n",
       "      <td>9</td>\n",
       "    </tr>\n",
       "  </tbody>\n",
       "</table>\n",
       "</div>"
      ],
      "text/plain": [
       "      0\n",
       "9994  5\n",
       "9995  6\n",
       "9996  7\n",
       "9997  8\n",
       "9998  9"
      ]
     },
     "execution_count": 134,
     "metadata": {},
     "output_type": "execute_result"
    }
   ],
   "source": [
    "test_labels.tail()"
   ]
  },
  {
   "cell_type": "code",
   "execution_count": 135,
   "metadata": {},
   "outputs": [
    {
     "data": {
      "text/plain": [
       "59999"
      ]
     },
     "execution_count": 135,
     "metadata": {},
     "output_type": "execute_result"
    }
   ],
   "source": [
    "len(train_img)"
   ]
  },
  {
   "cell_type": "code",
   "execution_count": 136,
   "metadata": {
    "collapsed": true
   },
   "outputs": [],
   "source": [
    "def one_hot_encode(labels, n_labels):\n",
    "    one_hot = np.zeros((len(labels), n_labels))\n",
    "    for label, array in zip(labels, one_hot):\n",
    "        array[label] = 1\n",
    "    return one_hot"
   ]
  },
  {
   "cell_type": "code",
   "execution_count": 137,
   "metadata": {
    "collapsed": true
   },
   "outputs": [],
   "source": [
    "def load(train_img, train_labels, test_img, test_labels):\n",
    "    X_tr = train_img.as_matrix()\n",
    "    Y_tr = train_labels.as_matrix()\n",
    "    X_te = test_img.as_matrix()\n",
    "    Y_te = test_labels.as_matrix()\n",
    "    return X_tr, Y_tr, X_te, Y_te"
   ]
  },
  {
   "cell_type": "code",
   "execution_count": 138,
   "metadata": {
    "collapsed": true
   },
   "outputs": [],
   "source": [
    "from sklearn.model_selection import train_test_split"
   ]
  },
  {
   "cell_type": "code",
   "execution_count": 141,
   "metadata": {},
   "outputs": [],
   "source": [
    "X_tr, Y_tr, X_te, Y_te = load(train_img, train_labels, test_img, test_labels)\n",
    "X_tr = np.reshape(X_tr, (-1, 28, 28, 1))\n",
    "X_te = np.reshape(X_te, (-1, 28, 28, 1))\n",
    "labels = (np.max(Y_tr)) + 1\n"
   ]
  },
  {
   "cell_type": "code",
   "execution_count": 142,
   "metadata": {},
   "outputs": [
    {
     "data": {
      "text/plain": [
       "59999"
      ]
     },
     "execution_count": 142,
     "metadata": {},
     "output_type": "execute_result"
    }
   ],
   "source": [
    "len(X_tr)"
   ]
  },
  {
   "cell_type": "code",
   "execution_count": 143,
   "metadata": {
    "collapsed": true
   },
   "outputs": [],
   "source": [
    "X_tr, X_val, Y_tr, Y_val = train_test_split(X_tr, Y_tr, test_size=0.15, random_state=0)"
   ]
  },
  {
   "cell_type": "code",
   "execution_count": 144,
   "metadata": {},
   "outputs": [
    {
     "data": {
      "text/plain": [
       "array([[ 0.,  0.,  0., ...,  0.,  0.,  1.],\n",
       "       [ 0.,  0.,  0., ...,  0.,  0.,  0.],\n",
       "       [ 0.,  0.,  0., ...,  0.,  0.,  0.],\n",
       "       ..., \n",
       "       [ 1.,  0.,  0., ...,  0.,  0.,  0.],\n",
       "       [ 0.,  0.,  0., ...,  0.,  0.,  0.],\n",
       "       [ 0.,  0.,  0., ...,  0.,  0.,  0.]])"
      ]
     },
     "execution_count": 144,
     "metadata": {},
     "output_type": "execute_result"
    }
   ],
   "source": [
    "Y_tr = one_hot_encode(Y_tr, labels)\n",
    "Y_tr\n",
    "Y_te = one_hot_encode(Y_te, labels)\n",
    "Y_val_ = one_hot_encode(Y_val, labels)\n",
    "Y_val_"
   ]
  },
  {
   "cell_type": "code",
   "execution_count": 145,
   "metadata": {
    "collapsed": true
   },
   "outputs": [],
   "source": [
    "def weight_var(shape):\n",
    "    w = tf.truncated_normal(shape=shape, stddev=0.1)\n",
    "    return tf.Variable(w)\n",
    "def bias_var(shape):\n",
    "    b = tf.constant(0.1, shape=shape)\n",
    "    return tf.Variable(b)\n",
    "\n",
    "\n",
    "def CNN(x, n_classes):\n",
    "    \n",
    "    strides = [1, 1, 1, 1]\n",
    "    strides2 = [1, 2, 2, 1]\n",
    "    ksize = strides2\n",
    "    w1 = weight_var(shape=[5, 5, 1, 32])\n",
    "    b1 = bias_var(shape=[32])\n",
    "    layer1 = tf.nn.conv2d(x, w1, strides=strides, padding='VALID')\n",
    "    layer1 = tf.nn.bias_add(layer1, b1)\n",
    "    layer1 = tf.nn.relu(layer1)\n",
    "    \n",
    "    #layer1 = tf.nn.max_pool(layer1, ksize=ksize, strides=strides2, padding'VALID')\n",
    "    \n",
    "\n",
    "    w2 = weight_var(shape=[5, 5, 32, 64])\n",
    "    b2 = bias_var(shape=[64])\n",
    "    layer2 = tf.nn.conv2d(layer1, w2, strides=strides, padding='VALID')\n",
    "    layer2 = tf.nn.bias_add(layer2, b2)\n",
    "    layer2 = tf.nn.relu(layer2)\n",
    "    \n",
    "    layer2 = tf.nn.max_pool(layer2, ksize=ksize, strides=strides2, padding='VALID')\n",
    "    \n",
    "\n",
    "    w3 = weight_var(shape=[5, 5, 64, 64])\n",
    "    b3 = bias_var(shape=[64])\n",
    "    layer3 = tf.nn.conv2d(layer2, w3, strides=strides, padding='VALID')\n",
    "    layer3 = tf.nn.bias_add(layer3, b3)\n",
    "    layer3 = tf.nn.relu(layer3)\n",
    "    \n",
    "    layer3 = tf.nn.max_pool(layer3, ksize=ksize, strides=strides2, padding='SAME')\n",
    "    \n",
    "    \n",
    "    flatten = tf.contrib.layers.flatten(layer3)\n",
    "    dim = flatten.get_shape().as_list()\n",
    "    \n",
    "    wc1 = weight_var(shape=[dim[1], 256])\n",
    "    bc1 = bias_var([256])\n",
    "    fc1 = tf.matmul(flatten, wc1)\n",
    "    fc1 = tf.nn.bias_add(fc1, bc1)\n",
    "    fc1 = tf.nn.relu(fc1)\n",
    "    fc1 = tf.nn.dropout(fc1, keep_prob=keep_prob)\n",
    "    \n",
    "    wc2 = weight_var(shape=[256, n_classes])\n",
    "    bc2 = bias_var([n_classes])\n",
    "    fc2 = tf.matmul(fc1, wc2)\n",
    "    logits = tf.add(fc2, bc2)\n",
    "    return logits\n",
    "    \n",
    "    \n",
    "    "
   ]
  },
  {
   "cell_type": "code",
   "execution_count": 146,
   "metadata": {
    "collapsed": true
   },
   "outputs": [],
   "source": [
    "def stats(X_batch, Y_batch):\n",
    "    total_loss = 0\n",
    "    total_acc = 0\n",
    "    samples = len(X_batch)\n",
    "    #X_batch = np.reshape(X_batch, [-1, n_steps, n_inputs])\n",
    "    sess = tf.get_default_session()\n",
    "    for offset in range(0, samples, batch_size):\n",
    "        end = offset+batch_size\n",
    "        xs_batch, ys_batch = X_batch[offset:end], Y_batch[offset:end]\n",
    "        loss_, acc = sess.run([loss, accuracy], feed_dict={x:xs_batch, \n",
    "                                                           y:ys_batch,\n",
    "                                                           keep_prob:1.0\n",
    "                                                           })\n",
    "        total_loss += (float(loss_)*xs_batch.shape[0])\n",
    "        total_acc += (float(acc)*xs_batch.shape[0])\n",
    "\n",
    "    return (total_loss)/samples, (total_acc)/samples"
   ]
  },
  {
   "cell_type": "code",
   "execution_count": 159,
   "metadata": {
    "collapsed": true
   },
   "outputs": [],
   "source": [
    "tf.reset_default_graph()"
   ]
  },
  {
   "cell_type": "code",
   "execution_count": 160,
   "metadata": {},
   "outputs": [
    {
     "data": {
      "text/plain": [
       "(<tf.Tensor 'Placeholder_1:0' shape=(?, 10) dtype=float32>,\n",
       " <tf.Tensor 'Placeholder:0' shape=(?, 28, 28, 1) dtype=float32>)"
      ]
     },
     "execution_count": 160,
     "metadata": {},
     "output_type": "execute_result"
    }
   ],
   "source": [
    "learning_rate = 1e-3\n",
    "n_classes = labels\n",
    "x = tf.placeholder(dtype=tf.float32, shape=(None, 28, 28, 1))\n",
    "y = tf.placeholder(tf.float32, shape=(None, n_classes))\n",
    "keep_prob = tf.placeholder(dtype=tf.float32)\n",
    "#y_hot = tf.one_hot(y, 29)\n",
    "y, x"
   ]
  },
  {
   "cell_type": "code",
   "execution_count": 161,
   "metadata": {},
   "outputs": [
    {
     "data": {
      "text/plain": [
       "<tf.Tensor 'Add:0' shape=(?, 10) dtype=float32>"
      ]
     },
     "execution_count": 161,
     "metadata": {},
     "output_type": "execute_result"
    }
   ],
   "source": [
    "logits = CNN(x, n_classes)\n",
    "softmax = tf.nn.softmax(logits)\n",
    "logits"
   ]
  },
  {
   "cell_type": "code",
   "execution_count": null,
   "metadata": {
    "collapsed": true
   },
   "outputs": [],
   "source": []
  },
  {
   "cell_type": "code",
   "execution_count": 162,
   "metadata": {},
   "outputs": [],
   "source": [
    "\n",
    "step = tf.Variable(0, trainable=False)\n",
    "loss = tf.reduce_mean(tf.nn.softmax_cross_entropy_with_logits(logits=logits, labels=y))\n",
    "optimizer = tf.train.AdamOptimizer(learning_rate, beta1=0.9, beta2=0.99).minimize(loss, global_step=step)\n",
    "\n",
    "prediction = tf.equal(tf.argmax(y, 1), tf.argmax(softmax, 1))\n",
    "accuracy = tf.reduce_mean(tf.cast(prediction, dtype=tf.float32))"
   ]
  },
  {
   "cell_type": "code",
   "execution_count": 163,
   "metadata": {},
   "outputs": [
    {
     "name": "stdout",
     "output_type": "stream",
     "text": [
      "(50999, 28, 28, 1) (50999, 10)\n"
     ]
    }
   ],
   "source": [
    "print(X_tr.shape, Y_tr.shape)"
   ]
  },
  {
   "cell_type": "code",
   "execution_count": 164,
   "metadata": {},
   "outputs": [
    {
     "name": "stdout",
     "output_type": "stream",
     "text": [
      "Initializing Training\n",
      "EPOCH 1\n",
      "Validation Loss = 2.894 and Validation Accuracy = 96.733 %\n",
      "EPOCH 2\n",
      "Validation Loss = 1.234 and Validation Accuracy = 97.656 %\n",
      "EPOCH 3\n",
      "Validation Loss = 0.716 and Validation Accuracy = 98.089 %\n",
      "EPOCH 4\n",
      "Validation Loss = 0.417 and Validation Accuracy = 98.167 %\n",
      "EPOCH 5\n",
      "Validation Loss = 0.250 and Validation Accuracy = 98.044 %\n",
      "EPOCH 6\n",
      "Validation Loss = 0.197 and Validation Accuracy = 97.667 %\n",
      "EPOCH 7\n",
      "Validation Loss = 0.152 and Validation Accuracy = 98.100 %\n",
      "EPOCH 8\n",
      "Validation Loss = 0.129 and Validation Accuracy = 98.211 %\n",
      "EPOCH 9\n",
      "Validation Loss = 0.114 and Validation Accuracy = 98.389 %\n",
      "EPOCH 10\n",
      "Validation Loss = 0.107 and Validation Accuracy = 98.344 %\n",
      "EPOCH 11\n",
      "Validation Loss = 0.098 and Validation Accuracy = 98.344 %\n",
      "EPOCH 12\n",
      "Validation Loss = 0.087 and Validation Accuracy = 98.656 %\n",
      "EPOCH 13\n",
      "Validation Loss = 0.101 and Validation Accuracy = 98.522 %\n",
      "EPOCH 14\n",
      "Validation Loss = 0.091 and Validation Accuracy = 98.689 %\n",
      "EPOCH 15\n",
      "Validation Loss = 0.086 and Validation Accuracy = 98.700 %\n",
      "EPOCH 16\n",
      "Validation Loss = 0.098 and Validation Accuracy = 98.700 %\n",
      "EPOCH 17\n",
      "Validation Loss = 0.081 and Validation Accuracy = 98.922 %\n",
      "EPOCH 18\n",
      "Validation Loss = 0.064 and Validation Accuracy = 99.044 %\n",
      "EPOCH 19\n",
      "Validation Loss = 0.071 and Validation Accuracy = 98.989 %\n",
      "EPOCH 20\n",
      "Validation Loss = 0.081 and Validation Accuracy = 98.811 %\n",
      "EPOCH 21\n",
      "Validation Loss = 0.073 and Validation Accuracy = 98.911 %\n",
      "EPOCH 22\n",
      "Validation Loss = 0.076 and Validation Accuracy = 98.911 %\n",
      "EPOCH 23\n",
      "Validation Loss = 0.089 and Validation Accuracy = 98.922 %\n",
      "EPOCH 24\n",
      "Validation Loss = 0.073 and Validation Accuracy = 99.122 %\n",
      "EPOCH 25\n",
      "Validation Loss = 0.079 and Validation Accuracy = 98.911 %\n",
      "EPOCH 26\n",
      "Validation Loss = 0.069 and Validation Accuracy = 99.267 %\n",
      "EPOCH 27\n",
      "Validation Loss = 0.073 and Validation Accuracy = 99.044 %\n",
      "EPOCH 28\n",
      "Validation Loss = 0.083 and Validation Accuracy = 99.278 %\n",
      "EPOCH 29\n",
      "Validation Loss = 0.080 and Validation Accuracy = 99.189 %\n",
      "EPOCH 30\n",
      "Validation Loss = 0.096 and Validation Accuracy = 99.133 %\n",
      "Test Loss 0.001390849589370191 and Test Accuracy 100.000 %\n"
     ]
    },
    {
     "data": {
      "image/png": "[encoded data removed]",
      "text/plain": [
       "<matplotlib.figure.Figure at 0x125678128>"
      ]
     },
     "metadata": {},
     "output_type": "display_data"
    }
   ],
   "source": [
    "acc_map = []\n",
    "\n",
    "from sklearn.utils import shuffle\n",
    "batch_size = 128\n",
    "epochs = 30\n",
    "samples = len(X_tr)\n",
    "\n",
    "count = 0\n",
    "print(\"Initializing Training\")\n",
    "try:\n",
    "    with tf.Session() as sess:\n",
    "        init = tf.global_variables_initializer()\n",
    "        sess.run(init)\n",
    "        for epoch in range(epochs):\n",
    "            X_tr, Y_tr = shuffle(X_tr, Y_tr)\n",
    "            for offset in range(0, samples, batch_size):\n",
    "                end = offset+batch_size\n",
    "                xs_batch, ys_batch = X_tr[offset:end], Y_tr[offset:end]\n",
    "                loss_, _ = sess.run([loss, optimizer], feed_dict={x: xs_batch, \n",
    "                                                                  y: ys_batch,\n",
    "                                                                 keep_prob:0.5})    \n",
    "\n",
    "            validation_loss, validation_acc = stats(X_val, Y_val_)\n",
    "            acc_map.append(round(validation_acc*100, 2))\n",
    "            print(\"EPOCH {}\".format(epoch + 1))\n",
    "            print (\"Validation Loss = {:.3f} and Validation Accuracy = {:.3f} %\".format(validation_loss, 100 *validation_acc))\n",
    "        plt.figure(figsize=(12, 5))\n",
    "        plt.xticks(range(1, epochs+1))\n",
    "        plt.xlabel('epoch')\n",
    "        plt.ylabel('accuracy')\n",
    "        plt.grid(True)\n",
    "        plt.plot(range(1, epochs+1), acc_map, '-o')\n",
    "        for i, j in list(zip(range(1, epochs+1), acc_map))[0::3]:\n",
    "            plt.text(i, j-1, str(j))\n",
    "        test_loss, test_acc = sess.run([loss, accuracy], feed_dict={x: xs_batch, \n",
    "                                                                    y: ys_batch,\n",
    "                                                                    keep_prob:1.01})  \n",
    "        print (\"Test Loss {} and Test Accuracy {:.3f} %\".format(test_loss, 100 *test_acc))\n",
    "except KeyboardInterrupt:\n",
    "    print('Training interrupted')\n",
    "    test_loss, test_acc = sess.run([loss, accuracy], feed_dict={x: xs_batch, \n",
    "                                                                    y: ys_batch})  \n",
    "    print (\"Test Loss {} and Test Accuracy {:.3f} %\".format(test_loss, 100 *test_acc))"
   ]
  },
  {
   "cell_type": "code",
   "execution_count": null,
   "metadata": {
    "collapsed": true
   },
   "outputs": [],
   "source": []
  },
  {
   "cell_type": "code",
   "execution_count": null,
   "metadata": {
    "collapsed": true
   },
   "outputs": [],
   "source": []
  }
 ],
 "metadata": {
  "kernelspec": {
   "display_name": "Python 3",
   "language": "python",
   "name": "python3"
  },
  "language_info": {
   "codemirror_mode": {
    "name": "ipython",
    "version": 3
   },
   "file_extension": ".py",
   "mimetype": "text/x-python",
   "name": "python",
   "nbconvert_exporter": "python",
   "pygments_lexer": "ipython3",
   "version": "3.6.3"
  }
 },
 "nbformat": 4,
 "nbformat_minor": 2
}
